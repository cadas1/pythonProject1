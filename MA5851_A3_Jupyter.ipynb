{
 "cells": [
  {
   "cell_type": "markdown",
   "metadata": {
    "collapsed": true,
    "pycharm": {
     "name": "#%% md\n"
    }
   },
   "source": [
    "### MA5851: Assignment 3, Webcrawler & NLP\n",
    "#### Paul Kirkwood\n",
    "\n",
    "#### Overview\n",
    "##### Objective\n",
    "Sport is based upon emotion,none more so than football. In the 1990's the satellite broadcaster, Sky,  revolutionised football through it's multi billion dollar investment in the English Premier League.It understood the value of emotion in capturing customers.\n",
    "\n",
    "The analysis of emotion or sentiment of games is useful in understanding whether emotion is just a transitory factor or whether there are trends and patterns in emotion that go beyond the specific match on the day. Questions such as, do some matches generate higher or lower sentiments over time?  Are there particular events in matches that generate significantly changed sentiment responses.\n",
    "\n",
    "For the media platforms this may enable:\n",
    "\n",
    "- match planning,\n",
    "- scheduling high sentiment games at particular times.\n",
    "- Designing in game entertainment, do certain sentiment levels benefit from external input, such as pundit discussion.\n",
    "- Can sentiment tracking govern when ad breaks occur or coverage interruptions.\n",
    "- Are there variances between live visual coverage and non-visual?\n",
    "\n",
    "All of these questions can influence not just coverage planning, but the management of advertising revenue. On the 'dark side', can sentiment tracking be used by betting companies to pitch offers or adjust odds, or by advertising companies.\n",
    "\n",
    "##### Data Sources\n",
    "\n",
    "With the growth in media platforms focused on very narrow segments of the fan base for games we are able to isolate fan groups to narrowly focus the collection of data for sentiment analysis.\n",
    "\n",
    "There are multiple pathways such as twitter, facebook, etc., that can generate significant volumes of data and would require significant comutation to manage.  They are also global platforms and further work is required to generate granular data that can be attributed to specific countries or market segments.\n",
    "\n",
    "The growth in fan forum platforms, many of which are run by clubs or organisations affiliated to clubs offer a very useful sample set on which to test the concept.  Affiliated fan sites are moderated, single language, and in most cases require registration. A particular forum thread is discrete, off topic posts are moderated.  The message data is therefore tightly focused on the subject matter (ie the game) and content is developed by club fans (opposition fans will not post on a club site.) this gives us a very clear data set to work with.\n",
    "\n",
    "##### Structure of the Analysis\n",
    "The task aims to capture sentiment from forum match feeds to use as the basis for sentiment analysis.  Event data (eg. goals) or library data (eg. player names) will be captured from other websites to provide context data.\n",
    "\n",
    "The structure of the model is outlined below:\n",
    "\n",
    "\n",
    "### Webcrawler\n",
    "##### Background\n",
    "The webcrawler will obtain data from the following sites;\n",
    "\n",
    "| Website   | Description|\n",
    "| --------- |------------|\n",
    "| www.forums.liverpoolfc.com       | Official Club fan forum site.  Individual match threads can be scraped for analysis           |\n",
    "| www.liverpoolfc.com| Club home page with most up to date squad |\n",
    "| www.turboscores.com| match reporting site that provides detailed game stats including goal scorers and goal timing|\n",
    "\n",
    "##### Forum Scraping\n",
    "The forum site is created in html and is visually rich with a very high degree of style management to assist in user navigation and to provide a look and feel appropriate to a major global football club.\n",
    "\n",
    "A review of the sites terms and conditions did not specifically prohibit web scraping and initial test requests all returned [200] responses.  The site is publicly accessible and all forum threads and posts can be accessed without login or other security measure.  User data for contributors is locked and requires paid membership. This is not an issue for this task.\n",
    "Given the project is using the publicly available data, is not restricted, nor is protected by CloudFlare or similar, I have assumed that the data can be scraped for the purposes of this assignment. Further investigation would be needed to determine if repeated requests or if the data is to be commercially used. In these circumstances, copyright restrictions may be an issue.\n",
    "\n",
    "This prototype scraper will use a specific match for, namely the sublime victory over the rather desperate Arsenal that was played on 20th November 2021.\n",
    "Any match can be selected from the forum as all match day threads are retained.\n",
    "The webcrawler is created using Python requests() and BeautifulSoup4()"
   ]
  },
  {
   "cell_type": "code",
   "execution_count": null,
   "outputs": [],
   "source": [
    "import numpy as np\n",
    "import requests\n",
    "page = requests.get('https://forums.liverpoolfc.com/threads/407628-Liverpool-v-Arsenal-Saturday-20th-November-KO-17-30')\n",
    "page #generates a [200] response confirming the request was successful"
   ],
   "metadata": {
    "collapsed": false,
    "pycharm": {
     "name": "#%% send a request to extract raw data from match day thread.\n"
    }
   }
  },
  {
   "cell_type": "code",
   "execution_count": null,
   "outputs": [],
   "source": [
    "from bs4 import BeautifulSoup\n",
    "soup = BeautifulSoup(page.content, 'html.parser')\n",
    "print(soup.find('title').get_text())\n",
    "kickoff = soup.find('title').get_text()"
   ],
   "metadata": {
    "collapsed": false,
    "pycharm": {
     "name": "#%%  Import beautifulsoup parser to create raw corpus from the content object of the request.\n"
    }
   }
  },
  {
   "cell_type": "code",
   "execution_count": null,
   "outputs": [],
   "source": [
    "print([type(item) for item in list(soup.children)])\n"
   ],
   "metadata": {
    "collapsed": false,
    "pycharm": {
     "name": "#%% An analysis of the child structure identified that the 'tag' child is third in the list\n"
    }
   }
  },
  {
   "cell_type": "code",
   "execution_count": null,
   "outputs": [],
   "source": [
    "html = list(soup.children)[2] #select the 'tag' child\n",
    "#list(html.children)  # tag list is commented out to minimise the print out."
   ],
   "metadata": {
    "collapsed": false,
    "pycharm": {
     "name": "#%%\n"
    }
   }
  },
  {
   "cell_type": "markdown",
   "source": [
    "An analysis of the child tags identified that the forum 'post test' is contained within the '< div>' tag and < class> = content. This class contained significant data including details of the poster together with a high level of style data.\n",
    "\n",
    "Investigation narrowed the relevant content location to the following tags:\n",
    "- Post content:     tag = < blockquote >, class = 'postcontent restore'\n",
    "- Post timestamp:   tag = < span>, class = 'date\n",
    "\n",
    "The data is extracted, stripped of html css code and stored in a dataframe for later use.\n",
    "As a forum site, the content is limited to around 30 posts per page, a page turn loop is created to allow the scraper to work over multiple pages. for the purposes of this prototype, the page count is limited to 10, ~300 posts."
   ],
   "metadata": {
    "collapsed": false,
    "pycharm": {
     "name": "#%% md\n"
    }
   }
  },
  {
   "cell_type": "code",
   "execution_count": null,
   "outputs": [],
   "source": [
    "page_num=1\n",
    "df = []\n",
    "while page_num != 10:\n",
    "    url= f'https://forums.liverpoolfc.com/threads/407628-Liverpool-v-Arsenal-Saturday-20th-November-KO-17-30'+'/page'+str(page_num)\n",
    "    response = requests.get(url)\n",
    "    html = response.content\n",
    "    soup = BeautifulSoup(html, 'html.parser')\n",
    "    page2 = soup.find_all(\"div\", {\"class\":\"postbody\"})\n",
    "    for k in page2:\n",
    "        item2 = k.find('blockquote', class_=\"postcontent restore\")\n",
    "        post = k.find('span', class_='date')\n",
    "        post_text = post.get_text().strip()\n",
    "        text2 = item2.get_text().strip()\n",
    "        #print(post_text)\n",
    "        #print(text2)\n",
    "        df.append([post_text, text2])\n",
    "\n",
    "    page_num = page_num+1"
   ],
   "metadata": {
    "collapsed": false,
    "pycharm": {
     "name": "#%%\n"
    }
   }
  },
  {
   "cell_type": "code",
   "execution_count": null,
   "outputs": [],
   "source": [
    "import pandas as pd\n",
    "df = pd.DataFrame(df)\n",
    "df.columns = ['date','post']\n",
    "df[['date', 'time']] = df['date'].str.split(',',expand=True)\n",
    "df = df[['date', 'time', 'post']]\n",
    "df.dtypes"
   ],
   "metadata": {
    "collapsed": false,
    "pycharm": {
     "name": "#%%  Intital wrangling to isolate the date/time variable\n"
    }
   }
  },
  {
   "cell_type": "code",
   "execution_count": null,
   "outputs": [],
   "source": [
    "df.shape"
   ],
   "metadata": {
    "collapsed": false,
    "pycharm": {
     "name": "#%%\n"
    }
   }
  },
  {
   "cell_type": "code",
   "execution_count": null,
   "outputs": [],
   "source": [
    "df['date']= pd.to_datetime(df['date'])\n",
    "df['time']= pd.to_datetime(df['time'])\n",
    "#df['time'] = pd.Series([val.time() for val in df['time']])\n",
    "df['post']= df['post'].astype(str)\n",
    "df.head()"
   ],
   "metadata": {
    "collapsed": false,
    "pycharm": {
     "name": "#%% Correction of data types. Conversion of date time\n"
    }
   }
  },
  {
   "cell_type": "markdown",
   "source": [
    "A review of the text content requires further cleaning as follows:\n",
    "- The text content contains html characters that were unable to be removed by the strip function, these are to be removed.\n",
    "- Punctuation and emoji's are to be left in as these have a significant impact upon sentiment analysis.  \"!\" for example will greatly increase the sentiment score of the preceding sentence.\n",
    "- 're-posting' or 'quoting' of previous comments will be left in as these reinforce the sentiment of the previous comment.\n"
   ],
   "metadata": {
    "collapsed": false,
    "pycharm": {
     "name": "#%% md\n"
    }
   }
  },
  {
   "cell_type": "code",
   "execution_count": null,
   "outputs": [],
   "source": [
    "df['post'] = df['post'].str.replace('\\\\n',' ')\n",
    "df['post'] = df['post'].str.replace('\\\\r',' ')\n",
    "#df['post'] = df['post'].str.replace('.,',' ')\n",
    "char = \".,-\"\n",
    "for i in char:\n",
    "    df['post'] = df['post'].str.replace(i, \" \")\n",
    "df.head()"
   ],
   "metadata": {
    "collapsed": false,
    "pycharm": {
     "name": "#%%\n"
    }
   }
  },
  {
   "cell_type": "markdown",
   "source": [
    "##### Team Player Data Scraping\n",
    "Player data is scraped from the live player squad page on the Liverpool FC website. The methodology is similar to the post content scraping above, however, the site content is far simpler to extract from as it is a fixed page with static data and not a continually updating page as found in forum sites.\n",
    "AS before for the Liverpool sites, there appear to be few restrictions on accessing the player data. It is likely in this instance that the player names are 'advertising' to some degree as they are used to provide links to club merchandising.\n",
    "The data contained far higher numbers of tags, and the relevant child was number 13 of 14 identified."
   ],
   "metadata": {
    "collapsed": false
   }
  },
  {
   "cell_type": "code",
   "execution_count": null,
   "outputs": [],
   "source": [
    "names = []\n",
    "page = requests.get('https://www.liverpoolfc.com/team/first-team')\n",
    "soup = BeautifulSoup(page.content, 'html.parser')\n",
    "for player in soup.find_all(class_=\"name\"):\n",
    "    name = player.get_text(strip=True, separator=' ')\n",
    "    names.append(name)\n",
    "print(names)\n",
    "\n",
    "names = pd.DataFrame(names)\n",
    "names.columns = ['Names']\n",
    "names"
   ],
   "metadata": {
    "collapsed": false,
    "pycharm": {
     "name": "#%%\n"
    }
   }
  },
  {
   "cell_type": "markdown",
   "source": [
    "##### Match Event Data Scraping\n",
    "Match data is scraped from a fan site that appears to source data from multiple sources. An examination of the site code notes links to other sites.\n",
    "This presents a potentially complex copyright and intellectual property challenge as it is unclear whether the sites author has the appropriate authorities to use or publish this data. It was noted that while there are many similar sites, of those tested only a few provided [200] response codes, with many returning [403] codes that suggest content restrictions are in place, potentially because of the pass through copyright issues.\n",
    "\n",
    "The site itself, for data scraping required careful navigation; the data is presented graphically and care was needed to drill down to the underlying text data that was being used to call images and icons.\n",
    "\n",
    "The data ultimately was extracted as a simple list, however, extraction into a suitable dataframe was involved and required several wrangling steps."
   ],
   "metadata": {
    "collapsed": false
   }
  },
  {
   "cell_type": "code",
   "execution_count": 106,
   "outputs": [],
   "source": [
    "events = []\n",
    "page = requests.get('https://www.turboscores.com/match/691402/Liverpool-v-Arsenal')\n",
    "soup = BeautifulSoup(page.content, 'html.parser')\n",
    "\n",
    "for k in soup.find_all(\"div\", {'id':'s1'}):\n",
    "     event = k.get_text(strip=True, separator=\"-\")"
   ],
   "metadata": {
    "collapsed": false,
    "pycharm": {
     "name": "#%%\n"
    }
   }
  },
  {
   "cell_type": "code",
   "execution_count": 107,
   "outputs": [
    {
     "data": {
      "text/plain": "  time           scorer  goal\n0   77  Takumi Minamino     1\n1   73    Mohamed Salah     1\n3   52       Diogo Jota     1\n5   39       Sadio Mané     1",
      "text/html": "<div>\n<style scoped>\n    .dataframe tbody tr th:only-of-type {\n        vertical-align: middle;\n    }\n\n    .dataframe tbody tr th {\n        vertical-align: top;\n    }\n\n    .dataframe thead th {\n        text-align: right;\n    }\n</style>\n<table border=\"1\" class=\"dataframe\">\n  <thead>\n    <tr style=\"text-align: right;\">\n      <th></th>\n      <th>time</th>\n      <th>scorer</th>\n      <th>goal</th>\n    </tr>\n  </thead>\n  <tbody>\n    <tr>\n      <th>0</th>\n      <td>77</td>\n      <td>Takumi Minamino</td>\n      <td>1</td>\n    </tr>\n    <tr>\n      <th>1</th>\n      <td>73</td>\n      <td>Mohamed Salah</td>\n      <td>1</td>\n    </tr>\n    <tr>\n      <th>3</th>\n      <td>52</td>\n      <td>Diogo Jota</td>\n      <td>1</td>\n    </tr>\n    <tr>\n      <th>5</th>\n      <td>39</td>\n      <td>Sadio Mané</td>\n      <td>1</td>\n    </tr>\n  </tbody>\n</table>\n</div>"
     },
     "execution_count": 107,
     "metadata": {},
     "output_type": "execute_result"
    }
   ],
   "source": [
    "l = event.split('-')\n",
    "df3 = pd.DataFrame(l)\n",
    "slice = df3.iloc[::2]\n",
    "slice.columns = ['time']\n",
    "slice.reset_index(drop=True, inplace=True)\n",
    "slice2 = df3.iloc[1::2]\n",
    "slice2.columns = ['scorer']\n",
    "slice2.reset_index(drop=True, inplace=True)\n",
    "events = pd.concat([slice, slice2], axis=1)\n",
    "events['time'] = events['time'].str.replace(\"'\",'')\n",
    "events['goal'] = 1\n",
    "events = events.drop([2,4])\n",
    "events"
   ],
   "metadata": {
    "collapsed": false,
    "pycharm": {
     "name": "#%%\n"
    }
   }
  },
  {
   "cell_type": "markdown",
   "source": [
    "The final wrangling step is to align the event (goal scored time) with the match time to allow both to be plotted on the same graph."
   ],
   "metadata": {
    "collapsed": false,
    "pycharm": {
     "name": "#%% md\n"
    }
   }
  },
  {
   "cell_type": "code",
   "execution_count": 109,
   "outputs": [
    {
     "data": {
      "text/plain": "Timestamp('2021-12-05 17:30:00')"
     },
     "execution_count": 109,
     "metadata": {},
     "output_type": "execute_result"
    }
   ],
   "source": [
    "from datetime import datetime, timedelta\n",
    "kickoff\n",
    "kickoff_time = kickoff[-5:]\n",
    "kickoff_time = pd.to_datetime(kickoff_time)\n",
    "kickoff_time"
   ],
   "metadata": {
    "collapsed": false,
    "pycharm": {
     "name": "#%%\n"
    }
   }
  },
  {
   "cell_type": "code",
   "execution_count": 110,
   "outputs": [
    {
     "data": {
      "text/plain": "  time           scorer  goal          score_time\n0   77  Takumi Minamino     1 2021-12-05 18:47:00\n1   73    Mohamed Salah     1 2021-12-05 18:43:00\n3   52       Diogo Jota     1 2021-12-05 18:22:00\n5   39       Sadio Mané     1 2021-12-05 18:09:00",
      "text/html": "<div>\n<style scoped>\n    .dataframe tbody tr th:only-of-type {\n        vertical-align: middle;\n    }\n\n    .dataframe tbody tr th {\n        vertical-align: top;\n    }\n\n    .dataframe thead th {\n        text-align: right;\n    }\n</style>\n<table border=\"1\" class=\"dataframe\">\n  <thead>\n    <tr style=\"text-align: right;\">\n      <th></th>\n      <th>time</th>\n      <th>scorer</th>\n      <th>goal</th>\n      <th>score_time</th>\n    </tr>\n  </thead>\n  <tbody>\n    <tr>\n      <th>0</th>\n      <td>77</td>\n      <td>Takumi Minamino</td>\n      <td>1</td>\n      <td>2021-12-05 18:47:00</td>\n    </tr>\n    <tr>\n      <th>1</th>\n      <td>73</td>\n      <td>Mohamed Salah</td>\n      <td>1</td>\n      <td>2021-12-05 18:43:00</td>\n    </tr>\n    <tr>\n      <th>3</th>\n      <td>52</td>\n      <td>Diogo Jota</td>\n      <td>1</td>\n      <td>2021-12-05 18:22:00</td>\n    </tr>\n    <tr>\n      <th>5</th>\n      <td>39</td>\n      <td>Sadio Mané</td>\n      <td>1</td>\n      <td>2021-12-05 18:09:00</td>\n    </tr>\n  </tbody>\n</table>\n</div>"
     },
     "execution_count": 110,
     "metadata": {},
     "output_type": "execute_result"
    }
   ],
   "source": [
    "def time_a(row):\n",
    "    return kickoff_time + timedelta(minutes=int(row['time']))\n",
    "events['score_time'] = events.apply(time_a, axis=1)\n",
    "#events['score_time'] = pd.Series(val.time() for val in events['score_time'])\n",
    "events"
   ],
   "metadata": {
    "collapsed": false,
    "pycharm": {
     "name": "#%%\n"
    }
   }
  },
  {
   "cell_type": "markdown",
   "source": [
    "### NLP Prototype\n",
    "\n",
    "##### Overview\n",
    "The aim of the NLP is to assess the sentiment over the course of the match as it potentially ebbs and flows and how this is influenced by goals.\n",
    "\n",
    "The NLP will be carried out using the NLTK suite of NLP tools within python, as follows;\n",
    "- The corpus will be cleaned to remove stopwords (using the NLTK Stopwords library) in order to isolate the critical sentiment driving key works. Removal of stopwords will increase the relative frequency of keywords as a part of the whole corpus.\n",
    "- The words within the corpus will also be stemmed using the SnowballStemmer function applied to the cleaned corpus. The intent here is to reduce the number of key words to stemmed sets, thereby increasing the frequency of keywords and phases. Prior to stemming, it was noted that the test contained some numeric values that returned errors and hence these were removed. The downside to stemming is that the algorithm naturally converted all works to lower case, this was not the preferred outcome as the sentiment analysis recognises the impact on sentiment arisign from capitalised words.  The sentiment analysis will explore the variance between a stemmed and non-stemmed corpus.\n",
    "- Sentiment analysis will be carried out using Vader from NLTK returning the expected positive, neutral, negative and compound variables.  In addition, new variables will be generated using average and cumulative data to assess the sentiment trends and overall quality metrics.\n",
    "- Finally, the data will be displayed visually to provide a useful tool for assessment of sentiment."
   ],
   "metadata": {
    "collapsed": false
   }
  },
  {
   "cell_type": "code",
   "execution_count": null,
   "outputs": [],
   "source": [
    "import nltk\n",
    "nltk.download('stopwords')\n",
    "from nltk.corpus import stopwords\n",
    "from nltk.stem.snowball import SnowballStemmer\n",
    "from nltk.sentiment.vader import SentimentIntensityAnalyzer\n",
    "from nltk.tokenize import WhitespaceTokenizer as wst\n",
    "%matplotlib inline"
   ],
   "metadata": {
    "collapsed": false,
    "pycharm": {
     "name": "#%% Clean dataset for analysis\n"
    }
   }
  },
  {
   "cell_type": "code",
   "execution_count": null,
   "outputs": [],
   "source": [
    "stop = stopwords.words('english')\n",
    "for i in stop:\n",
    "    df['post'] = df['post'].replace(to_replace=r'\\b%s\\b\\d'%i, value=\"\",regex=True)\n",
    "stemmer = SnowballStemmer('english')\n",
    "df['stemmed'] = df['post'].apply(lambda x: stemmer.stem(x))\n"
   ],
   "metadata": {
    "collapsed": false,
    "pycharm": {
     "name": "#%%  Removal of Stopwords and stemming.\n"
    }
   }
  },
  {
   "cell_type": "code",
   "execution_count": null,
   "outputs": [],
   "source": [
    "nltk.download('vader_lexicon')\n",
    "sid = SentimentIntensityAnalyzer()\n",
    "\n",
    "df['compound'] = [sid.polarity_scores(x)['compound'] for x in df['post']]\n",
    "df['neg'] = [sid.polarity_scores(x)['neg'] for x in df['post']]\n",
    "df['neu'] = [sid.polarity_scores(x)['neu'] for x in df['post']]\n",
    "df['pos'] = [sid.polarity_scores(x)['pos'] for x in df['post']]"
   ],
   "metadata": {
    "collapsed": false,
    "pycharm": {
     "name": "#%% Sentiment analysis using Vader\n"
    }
   }
  },
  {
   "cell_type": "code",
   "execution_count": null,
   "outputs": [],
   "source": [
    "df.head()"
   ],
   "metadata": {
    "collapsed": false,
    "pycharm": {
     "name": "#%%\n"
    }
   }
  },
  {
   "cell_type": "code",
   "execution_count": null,
   "outputs": [],
   "source": [
    "import statistics\n",
    "data_mean = df.mean()\n",
    "data_var = df.var()\n",
    "data_max = df.max()\n",
    "data_min = df.min()\n",
    "df1= pd.Series(data_mean, name=\"Mean Values\")\n",
    "df2= pd.Series(data_var, name='Variance')\n",
    "df3= pd.Series(data_max, name= 'Max')\n",
    "df4= pd.Series(data_min, name= 'Min')\n",
    "combined= pd.concat([df1, df2, df3, df4], axis=1)\n",
    "combined.dropna(inplace=True)"
   ],
   "metadata": {
    "collapsed": false,
    "pycharm": {
     "name": "#%%\n"
    }
   }
  },
  {
   "cell_type": "markdown",
   "source": [
    "A simple exploration of the data derived from the sentiment data provided the following insights.\n",
    "- There was only a marginal difference between the positive & negative mean values, that initially suggests that the match was evenly balanced. However, this match was a strong win for Liverpool and hence the expectation is that the sentiment would be strongly positive.  My assumption is that the methodology has normalised the values between 0 and 1 and hence the two values cannot be compared on scale.\n",
    "- From the box plot it can be seen that the compound value is skewed towards the positive sentiment (ie. value > 0) this would be reflective of the overall match outcome.\n",
    "- In both positive and negative values, the spread includes several values that could be considered outliers. The hypothesis here is that these may coincide with goals scored or key misses of which the number in the match is raltively low in comparision to the number of comments."
   ],
   "metadata": {
    "collapsed": false,
    "pycharm": {
     "name": "#%% md\n"
    }
   }
  },
  {
   "cell_type": "code",
   "execution_count": null,
   "outputs": [],
   "source": [
    "combined.head()\n",
    "df_plot = df[['compound', 'neg', 'neu', 'pos']]"
   ],
   "metadata": {
    "collapsed": false,
    "pycharm": {
     "name": "#%% Extract numeric values for plotting\n"
    }
   }
  },
  {
   "cell_type": "code",
   "execution_count": null,
   "outputs": [],
   "source": [
    "import matplotlib.pyplot as plt\n",
    "\n",
    "fig, ax= plt.subplots()\n",
    "plt.boxplot(df_plot)\n",
    "plt.xticks([1,2,3,4],[\"Compound\", \"neg\", \"neu\", \"pos\"])\n",
    "plt.show()"
   ],
   "metadata": {
    "collapsed": false,
    "pycharm": {
     "name": "#%% Box Plot of sentiment scores\n"
    }
   }
  },
  {
   "cell_type": "code",
   "execution_count": 88,
   "outputs": [],
   "source": [
    "df_match = df[['time', 'compound', 'neg','neu','pos']].copy()\n",
    "df_match['neg'] = df_match['neg']*-1"
   ],
   "metadata": {
    "collapsed": false,
    "pycharm": {
     "name": "#%%\n"
    }
   }
  },
  {
   "cell_type": "markdown",
   "source": [
    "An initial plot of the four sentiment variables from the fully extracted dataset identified issues relating to the management of timeseries data, but also noted that the forum site was open for over 24hours.  The time period of interest is the match itself, this period can be identified from the chart as the dense period in the last quarter.  The plot also shows some quiet periods of low or very low posting, overnight and in the immediate lead up to the game."
   ],
   "metadata": {
    "collapsed": false
   }
  },
  {
   "cell_type": "code",
   "execution_count": 89,
   "outputs": [
    {
     "data": {
      "text/plain": "<Figure size 432x288 with 1 Axes>",
      "image/png": "[encoded data removed]"
     },
     "metadata": {
      "needs_background": "light"
     },
     "output_type": "display_data"
    }
   ],
   "source": [
    "df_match.plot(x='time', y = ['compound', 'pos', 'neg'])\n",
    "plt.show()"
   ],
   "metadata": {
    "collapsed": false,
    "pycharm": {
     "name": "#%%\n"
    }
   }
  },
  {
   "cell_type": "code",
   "execution_count": 114,
   "outputs": [],
   "source": [
    "df_match['time'] = pd.to_datetime(df_match['time'])\n",
    "start = datetime.strptime('17:30:00', '%H:%M:%S').time()\n",
    "end = datetime.strptime('19:00:00', '%H:%M:%S').time()\n",
    "df_filter = df_match[df_match['time'].dt.time.between(start, end)]"
   ],
   "metadata": {
    "collapsed": false,
    "pycharm": {
     "name": "#%%\n"
    }
   }
  },
  {
   "cell_type": "markdown",
   "source": [
    "By filtering the data to isolate the match period, a more representative plot can be achieved. However, the filtering and management of time data required considerable wrangling. It may be possible to better refine the scraped data to ease this process."
   ],
   "metadata": {
    "collapsed": false,
    "pycharm": {
     "name": "#%% md\n"
    }
   }
  },
  {
   "cell_type": "code",
   "execution_count": null,
   "outputs": [],
   "source": [
    "from matplotlib.dates import DateFormatter\n",
    "import matplotlib.dates as mdate"
   ],
   "metadata": {
    "collapsed": false,
    "pycharm": {
     "name": "#%%\n"
    }
   }
  },
  {
   "cell_type": "code",
   "execution_count": 115,
   "outputs": [
    {
     "data": {
      "text/plain": "<Figure size 432x288 with 1 Axes>",
      "image/png": "[encoded data removed]"
     },
     "metadata": {
      "needs_background": "light"
     },
     "output_type": "display_data"
    }
   ],
   "source": [
    "X = df_filter['time']\n",
    "X = X.sort_values()\n",
    "Y1 = df_filter['pos']\n",
    "Y2 = df_filter['compound']\n",
    "Y3 = df_filter['neg']\n",
    "Goal = events['goal']\n",
    "Goal_time = events['score_time']\n",
    "\n",
    "\n",
    "num_goal = len(Goal_time)\n",
    "plt.fill(X, Y2, color = 'lightblue', label = 'Compound')\n",
    "plt.fill(X, Y1, color = 'r', label = 'Positive')\n",
    "plt.fill(X, Y3, color = 'b', label = 'Negative')\n",
    "for i in range(num_goal):\n",
    "    plt.axvline(x=Goal_time.iloc[i], color = 'g', label = 'Goal')\n",
    "handles, labels = plt.gca().get_legend_handles_labels()\n",
    "by_label = dict(zip(labels, handles))\n",
    "plt.title(\"Sentiment Analysis\")\n",
    "plt.legend(by_label.values(), by_label.keys(), bbox_to_anchor = (1.04,1), loc='upper left')\n",
    "plt.ylabel('Values')\n",
    "plt.xlabel('Match Time')\n",
    "h_fmt = mdate.DateFormatter('%H:%M')\n",
    "plt.gca().xaxis.set_major_formatter(h_fmt)\n",
    "hours = mdate.HourLocator(interval=1)\n",
    "ax.xaxis.set_major_locator(hours)\n",
    "plt.show()"
   ],
   "metadata": {
    "collapsed": false,
    "pycharm": {
     "name": "#%%\n"
    }
   }
  },
  {
   "cell_type": "markdown",
   "source": [
    "The intended output was achieved in the plot above. Clearly shown are the relative positive and negative sentiment scores tracking over time throughout the match. Initial observations:\n",
    "\n",
    "The compound sentiment value confirms the finding from the EDA, it is weighted positive indicting overall a more positive than negative sentiment.\n",
    "\n",
    "The negative sentiment value trends upwards, suggesting that overall sentiment became less negative as the match progressed. Understandable given the performance and scoreline.\n",
    "\n",
    "There is noticeable spikes in positve sentiment associated with goals score, as woudl be expected.\n",
    "\n",
    "There are other noticeable spikes in both positive and negative sentiment.\n",
    "- The first group is around kickoff when the excitement and anxiety would be higher with anticipation.\n",
    "- A significant spike occurs at the one-hour mark, approximately 6:30pm. An analysis of the time period from 55minutes to 65minutes confirmed two incidents occured, firstly a significant injury to a Liverpool Player, followed by a critical save by the Liverpool goalkeeper. This sentiment spike is as much a sense of relief as excitement.\n",
    "\n",
    "Reading the match report back and aligning the sentiment movements with match activity confirms that the sentiment tracker is performing well.\n",
    "\n",
    "### Conclusions & Recommendations\n",
    "##### Conclusions\n",
    "The \n"
   ],
   "metadata": {
    "collapsed": false,
    "pycharm": {
     "name": "#%% md\n"
    }
   }
  },
  {
   "cell_type": "code",
   "execution_count": 73,
   "outputs": [
    {
     "data": {
      "text/plain": "109   2021-12-05 17:31:00\n110   2021-12-05 17:32:00\n113   2021-12-05 17:32:00\n112   2021-12-05 17:32:00\n111   2021-12-05 17:32:00\n              ...        \n266   2021-12-05 18:49:00\n268   2021-12-05 18:49:00\n264   2021-12-05 18:49:00\n265   2021-12-05 18:49:00\n269   2021-12-05 18:49:00\nName: time, Length: 168, dtype: datetime64[ns]"
     },
     "execution_count": 73,
     "metadata": {},
     "output_type": "execute_result"
    }
   ],
   "source": [],
   "metadata": {
    "collapsed": false,
    "pycharm": {
     "name": "#%%\n"
    }
   }
  }
 ],
 "metadata": {
  "kernelspec": {
   "name": "pycharm-2136fb3e",
   "language": "python",
   "display_name": "PyCharm (python)"
  },
  "language_info": {
   "codemirror_mode": {
    "name": "ipython",
    "version": 2
   },
   "file_extension": ".py",
   "mimetype": "text/x-python",
   "name": "python",
   "nbconvert_exporter": "python",
   "pygments_lexer": "ipython2",
   "version": "2.7.6"
  }
 },
 "nbformat": 4,
 "nbformat_minor": 0
}